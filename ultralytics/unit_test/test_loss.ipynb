{
 "cells": [
  {
   "cell_type": "markdown",
   "id": "d998dd85",
   "metadata": {},
   "source": [
    "以单元测试模拟preds / batch 的形状来跑通一些逻辑，这个ipynb文件用于测试`loss.py`，其位于`ultralytics/yolo/utils/loss.py`"
   ]
  },
  {
   "cell_type": "markdown",
   "id": "b3626af3",
   "metadata": {},
   "source": [
    "# 测试 `v8DetectionLoss`"
   ]
  },
  {
   "cell_type": "code",
   "execution_count": 3,
   "id": "b7404374",
   "metadata": {},
   "outputs": [
    {
     "name": "stdout",
     "output_type": "stream",
     "text": [
      "/Users/idealistsiren/repos/yolov8_segment_pose\n"
     ]
    },
    {
     "name": "stderr",
     "output_type": "stream",
     "text": [
      "/Users/idealistsiren/miniconda3/envs/yolov8_seg_pose/lib/python3.9/site-packages/tqdm/auto.py:21: TqdmWarning: IProgress not found. Please update jupyter and ipywidgets. See https://ipywidgets.readthedocs.io/en/stable/user_install.html\n",
      "  from .autonotebook import tqdm as notebook_tqdm\n",
      "/Users/idealistsiren/repos/yolov8_segment_pose/ultralytics/yolo/utils/checks.py:16: UserWarning: pkg_resources is deprecated as an API. See https://setuptools.pypa.io/en/latest/pkg_resources.html. The pkg_resources package is slated for removal as early as 2025-11-30. Refrain from using this package or pin to Setuptools<81.\n",
      "  import pkg_resources as pkg\n"
     ]
    },
    {
     "name": "stdout",
     "output_type": "stream",
     "text": [
      "LOSS: 1203.2271728515625\n",
      "LOSS items: tensor([2.9056e-02, 6.0158e+02, 0.0000e+00])\n"
     ]
    }
   ],
   "source": [
    "# 简单单测脚本：模拟 feats / batch 并运行 v8DetectionLoss 的前向（CPU）\n",
    "# 运行方式（在 repo 根目录）：python -m tests.test_loss_forward\n",
    "import sys\n",
    "from pathlib import Path\n",
    "repo_root = Path(\"/Users/idealistsiren/repos/yolov8_segment_pose\").resolve()\n",
    "print(repo_root)\n",
    "sys.path.insert(0, str(repo_root))\n",
    "\n",
    "import torch\n",
    "import torch.nn as nn\n",
    "from ultralytics.yolo.utils.loss import v8DetectionLoss\n",
    "\n",
    "# 构造一个最小的 fake model，满足 v8DetectionLoss 在 __init__ 中的需求\n",
    "class FakeHead:\n",
    "    def __init__(self, stride, nc, reg_max):\n",
    "        # stride tensor: e.g. [8,16,32]\n",
    "        self.stride = torch.tensor(stride)\n",
    "        self.nc = nc\n",
    "        self.reg_max = reg_max\n",
    "        # no = reg_max * 4 + nc (与 parse_model 中保持一致)\n",
    "        self.no = reg_max * 4 + nc\n",
    "\n",
    "class DummyModel(nn.Module):\n",
    "    def __init__(self, head):\n",
    "        super().__init__()\n",
    "        # 需要至少一个 parameter 使 next(model.parameters()) 有值以获取 device\n",
    "        self.dummy = nn.Parameter(torch.zeros(1))\n",
    "        # model attribute: list-like with last element having stride/nc/no/reg_max\n",
    "        self.model = [head]\n",
    "        # args: 为损失使用提供超参字典（可按实际训练超参调整）\n",
    "        class H: pass\n",
    "        h = H()\n",
    "        # 典型超参名称：box, cls, dfl\n",
    "        h.box = 0.05\n",
    "        h.cls = 0.5\n",
    "        h.dfl = 0.0\n",
    "        # 其他训练中可能存在的键（安全起见）\n",
    "        h.pose = 1.0\n",
    "        h.kobj = 1.0\n",
    "        self.args = h\n",
    "\n",
    "def make_fake_feats(B, no, sizes):\n",
    "    # sizes: list of (H,W) for each feature map\n",
    "    feats = []\n",
    "    for H, W in sizes:\n",
    "        # create random tensor (B, no, H, W)\n",
    "        feats.append(torch.randn(B, no, H, W))\n",
    "    return feats\n",
    "\n",
    "def make_batch(batch_size):\n",
    "    # 构造 1 gt per image 的简单批次（normalized xywh）\n",
    "    # batch['batch_idx']: (num_targets,)\n",
    "    # batch['cls']: (num_targets,)\n",
    "    # batch['bboxes']: (num_targets, 4) (xywh normalized [0,1])\n",
    "    batch_idx = torch.arange(batch_size)\n",
    "    cls = torch.zeros(batch_size, dtype=torch.long)\n",
    "    # place gt near center with moderate size\n",
    "    bboxes = torch.stack([\n",
    "        torch.tensor([0.5, 0.5, 0.2, 0.2], dtype=torch.float),\n",
    "    ] * batch_size, dim=0)\n",
    "    return {\n",
    "        'batch_idx': batch_idx,\n",
    "        'cls': cls,\n",
    "        'bboxes': bboxes\n",
    "    }\n",
    "\n",
    "def main():\n",
    "    device = torch.device('cpu')\n",
    "    stride = [8.0, 16.0, 32.0]\n",
    "    nc = 3\n",
    "    reg_max = 8  # >1 表示启用 DFL 支持路径（代码会处理）\n",
    "    head = FakeHead(stride=stride, nc=nc, reg_max=reg_max)\n",
    "    model = DummyModel(head).to(device)\n",
    "\n",
    "    loss_fn = v8DetectionLoss(model)\n",
    "\n",
    "    B = 2\n",
    "    # choose feature sizes that match typical downsampling: (H = img_h/stride)\n",
    "    # 假设 imgsz = stride[0]*H0，取 H0=80/8 等，任意小尺寸也可\n",
    "    sizes = [(20, 20), (10, 10), (5, 5)]  # 三尺度示例\n",
    "    feats = make_fake_feats(B, head.no, sizes)\n",
    "\n",
    "    batch = make_batch(B)\n",
    "\n",
    "    # 运行 loss 前向\n",
    "    try:\n",
    "        loss, loss_items = loss_fn(feats, batch)\n",
    "        print(\"LOSS:\", loss.item())\n",
    "        print(\"LOSS items:\", loss_items)\n",
    "    except Exception as e:\n",
    "        print(\"Error running loss forward:\", e)\n",
    "        raise\n",
    "\n",
    "if __name__ == \"__main__\":\n",
    "    main()"
   ]
  }
 ],
 "metadata": {
  "kernelspec": {
   "display_name": "yolov8_seg_pose",
   "language": "python",
   "name": "python3"
  },
  "language_info": {
   "codemirror_mode": {
    "name": "ipython",
    "version": 3
   },
   "file_extension": ".py",
   "mimetype": "text/x-python",
   "name": "python",
   "nbconvert_exporter": "python",
   "pygments_lexer": "ipython3",
   "version": "3.9.23"
  }
 },
 "nbformat": 4,
 "nbformat_minor": 5
}
